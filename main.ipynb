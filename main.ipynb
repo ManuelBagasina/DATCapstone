{
  "nbformat": 4,
  "nbformat_minor": 0,
  "metadata": {
    "colab": {
      "provenance": [],
      "toc_visible": true,
      "authorship_tag": "ABX9TyM7K74bncrTT8q13IBLZcXs",
      "include_colab_link": true
    },
    "kernelspec": {
      "name": "python3",
      "display_name": "Python 3"
    },
    "language_info": {
      "name": "python"
    }
  },
  "cells": [
    {
      "cell_type": "markdown",
      "metadata": {
        "id": "view-in-github",
        "colab_type": "text"
      },
      "source": [
        "<a href=\"https://colab.research.google.com/github/ManuelBagasina/DATCapstone/blob/main/main.ipynb\" target=\"_parent\"><img src=\"https://colab.research.google.com/assets/colab-badge.svg\" alt=\"Open In Colab\"/></a>"
      ]
    },
    {
      "cell_type": "code",
      "execution_count": 7,
      "metadata": {
        "colab": {
          "base_uri": "https://localhost:8080/"
        },
        "id": "VjCXbheueGLL",
        "outputId": "0f821c6c-bd8c-49d6-b14f-617ce2deaf3b"
      },
      "outputs": [
        {
          "output_type": "stream",
          "name": "stdout",
          "text": [
            "fatal: destination path 'DATCapstone' already exists and is not an empty directory.\n"
          ]
        }
      ],
      "source": [
        "#Clone git for data\n",
        "!git clone https://github.com/ManuelBagasina/DATCapstone.git"
      ]
    },
    {
      "cell_type": "markdown",
      "source": [
        "# Importing"
      ],
      "metadata": {
        "id": "iFMi3gCaggHo"
      }
    },
    {
      "cell_type": "code",
      "source": [
        "import pandas as pd\n",
        "\n",
        "firm = 'AAPL' #Choose the firem\n",
        "\n",
        "df_stock = pd.read_csv(f'/content/DATCapstone/data/{firm}_stock.csv')\n",
        "df_macro = pd.read_csv(f'/content/DATCapstone/data/{firm}_macro.csv')\n",
        "df_micro = pd.read_csv(f'/content/DATCapstone/data/{firm}_micro.csv')\n",
        "df_articles = pd.read_csv(f'/content/DATCapstone/data/{firm}_articles.csv')\n",
        "df_reddit = pd.read_csv(f'/content/DATCapstone/data/{firm}_reddit.csv')"
      ],
      "metadata": {
        "id": "oJt7-EOUebWi"
      },
      "execution_count": 5,
      "outputs": []
    },
    {
      "cell_type": "markdown",
      "source": [
        "# Preprocessing"
      ],
      "metadata": {
        "id": "J83hy4HGgDRE"
      }
    },
    {
      "cell_type": "code",
      "source": [],
      "metadata": {
        "id": "r8pGuEhIgDzt"
      },
      "execution_count": null,
      "outputs": []
    },
    {
      "cell_type": "markdown",
      "source": [
        "#EDA"
      ],
      "metadata": {
        "id": "Qs03qPb5f49Y"
      }
    },
    {
      "cell_type": "code",
      "source": [],
      "metadata": {
        "id": "YLWaHKp7frl9"
      },
      "execution_count": null,
      "outputs": []
    },
    {
      "cell_type": "markdown",
      "source": [
        "# Feature Engineering"
      ],
      "metadata": {
        "id": "gDWiP7zdgLsr"
      }
    },
    {
      "cell_type": "code",
      "source": [],
      "metadata": {
        "id": "wU9xw-YHgOFq"
      },
      "execution_count": null,
      "outputs": []
    },
    {
      "cell_type": "markdown",
      "source": [
        "# Feature Selection"
      ],
      "metadata": {
        "id": "ONsHgSOtgOqD"
      }
    },
    {
      "cell_type": "code",
      "source": [],
      "metadata": {
        "id": "-t06x4HrgS_d"
      },
      "execution_count": null,
      "outputs": []
    },
    {
      "cell_type": "markdown",
      "source": [
        "# Model Development"
      ],
      "metadata": {
        "id": "Uo90U_XTgT4X"
      }
    },
    {
      "cell_type": "code",
      "source": [],
      "metadata": {
        "id": "UieJ9si2gWKs"
      },
      "execution_count": null,
      "outputs": []
    },
    {
      "cell_type": "markdown",
      "source": [
        "# Model Evaluation"
      ],
      "metadata": {
        "id": "I8EFFb7IgWrJ"
      }
    },
    {
      "cell_type": "code",
      "source": [],
      "metadata": {
        "id": "6RyhA8ukgYhK"
      },
      "execution_count": null,
      "outputs": []
    }
  ]
}